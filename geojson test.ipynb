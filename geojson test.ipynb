{
 "cells": [
  {
   "cell_type": "code",
   "execution_count": 2,
   "id": "3e3cf4a2",
   "metadata": {},
   "outputs": [],
   "source": [
    "import pandas as pd\n",
    "import numpy as np\n",
    "import geopandas as gpd\n",
    "import matplotlib.pyplot as plt\n",
    "%matplotlib inline"
   ]
  },
  {
   "cell_type": "code",
   "execution_count": 13,
   "id": "592663b1",
   "metadata": {},
   "outputs": [
    {
     "data": {
      "text/html": [
       "<div>\n",
       "<style scoped>\n",
       "    .dataframe tbody tr th:only-of-type {\n",
       "        vertical-align: middle;\n",
       "    }\n",
       "\n",
       "    .dataframe tbody tr th {\n",
       "        vertical-align: top;\n",
       "    }\n",
       "\n",
       "    .dataframe thead th {\n",
       "        text-align: right;\n",
       "    }\n",
       "</style>\n",
       "<table border=\"1\" class=\"dataframe\">\n",
       "  <thead>\n",
       "    <tr style=\"text-align: right;\">\n",
       "      <th></th>\n",
       "      <th>id</th>\n",
       "      <th>LAD13CD</th>\n",
       "      <th>LAD13CDO</th>\n",
       "      <th>LAD13NM</th>\n",
       "      <th>LAD13NMW</th>\n",
       "      <th>geometry</th>\n",
       "    </tr>\n",
       "  </thead>\n",
       "  <tbody>\n",
       "    <tr>\n",
       "      <th>0</th>\n",
       "      <td>E06000001</td>\n",
       "      <td>E06000001</td>\n",
       "      <td>00EB</td>\n",
       "      <td>Hartlepool</td>\n",
       "      <td>None</td>\n",
       "      <td>MULTIPOLYGON (((-1.24244 54.72219, -1.24162 54...</td>\n",
       "    </tr>\n",
       "    <tr>\n",
       "      <th>1</th>\n",
       "      <td>E06000002</td>\n",
       "      <td>E06000002</td>\n",
       "      <td>00EC</td>\n",
       "      <td>Middlesbrough</td>\n",
       "      <td>None</td>\n",
       "      <td>MULTIPOLYGON (((-1.19744 54.58184, -1.19416 54...</td>\n",
       "    </tr>\n",
       "    <tr>\n",
       "      <th>2</th>\n",
       "      <td>E06000003</td>\n",
       "      <td>E06000003</td>\n",
       "      <td>00EE</td>\n",
       "      <td>Redcar and Cleveland</td>\n",
       "      <td>None</td>\n",
       "      <td>MULTIPOLYGON (((-1.20071 54.57768, -1.19989 54...</td>\n",
       "    </tr>\n",
       "    <tr>\n",
       "      <th>3</th>\n",
       "      <td>E06000004</td>\n",
       "      <td>E06000004</td>\n",
       "      <td>00EF</td>\n",
       "      <td>Stockton-on-Tees</td>\n",
       "      <td>None</td>\n",
       "      <td>MULTIPOLYGON (((-1.28171 54.56460, -1.27762 54...</td>\n",
       "    </tr>\n",
       "    <tr>\n",
       "      <th>4</th>\n",
       "      <td>E06000005</td>\n",
       "      <td>E06000005</td>\n",
       "      <td>00EH</td>\n",
       "      <td>Darlington</td>\n",
       "      <td>None</td>\n",
       "      <td>POLYGON ((-1.43800 54.59493, -1.43554 54.59552...</td>\n",
       "    </tr>\n",
       "    <tr>\n",
       "      <th>...</th>\n",
       "      <td>...</td>\n",
       "      <td>...</td>\n",
       "      <td>...</td>\n",
       "      <td>...</td>\n",
       "      <td>...</td>\n",
       "      <td>...</td>\n",
       "    </tr>\n",
       "    <tr>\n",
       "      <th>321</th>\n",
       "      <td>E09000029</td>\n",
       "      <td>E09000029</td>\n",
       "      <td>00BF</td>\n",
       "      <td>Sutton</td>\n",
       "      <td>None</td>\n",
       "      <td>POLYGON ((-0.13456 51.39073, -0.13292 51.39013...</td>\n",
       "    </tr>\n",
       "    <tr>\n",
       "      <th>322</th>\n",
       "      <td>E09000030</td>\n",
       "      <td>E09000030</td>\n",
       "      <td>00BG</td>\n",
       "      <td>Tower Hamlets</td>\n",
       "      <td>None</td>\n",
       "      <td>POLYGON ((-0.01673 51.54356, -0.01591 51.54237...</td>\n",
       "    </tr>\n",
       "    <tr>\n",
       "      <th>323</th>\n",
       "      <td>E09000031</td>\n",
       "      <td>E09000031</td>\n",
       "      <td>00BH</td>\n",
       "      <td>Waltham Forest</td>\n",
       "      <td>None</td>\n",
       "      <td>POLYGON ((0.02172 51.62861, 0.02091 51.62920, ...</td>\n",
       "    </tr>\n",
       "    <tr>\n",
       "      <th>324</th>\n",
       "      <td>E09000032</td>\n",
       "      <td>E09000032</td>\n",
       "      <td>00BJ</td>\n",
       "      <td>Wandsworth</td>\n",
       "      <td>None</td>\n",
       "      <td>POLYGON ((-0.14028 51.41927, -0.14438 51.41749...</td>\n",
       "    </tr>\n",
       "    <tr>\n",
       "      <th>325</th>\n",
       "      <td>E09000033</td>\n",
       "      <td>E09000033</td>\n",
       "      <td>00BK</td>\n",
       "      <td>Westminster</td>\n",
       "      <td>None</td>\n",
       "      <td>POLYGON ((-0.11165 51.51561, -0.11083 51.51383...</td>\n",
       "    </tr>\n",
       "  </tbody>\n",
       "</table>\n",
       "<p>326 rows × 6 columns</p>\n",
       "</div>"
      ],
      "text/plain": [
       "            id    LAD13CD LAD13CDO               LAD13NM LAD13NMW  \\\n",
       "0    E06000001  E06000001     00EB            Hartlepool     None   \n",
       "1    E06000002  E06000002     00EC         Middlesbrough     None   \n",
       "2    E06000003  E06000003     00EE  Redcar and Cleveland     None   \n",
       "3    E06000004  E06000004     00EF      Stockton-on-Tees     None   \n",
       "4    E06000005  E06000005     00EH            Darlington     None   \n",
       "..         ...        ...      ...                   ...      ...   \n",
       "321  E09000029  E09000029     00BF                Sutton     None   \n",
       "322  E09000030  E09000030     00BG         Tower Hamlets     None   \n",
       "323  E09000031  E09000031     00BH        Waltham Forest     None   \n",
       "324  E09000032  E09000032     00BJ            Wandsworth     None   \n",
       "325  E09000033  E09000033     00BK           Westminster     None   \n",
       "\n",
       "                                              geometry  \n",
       "0    MULTIPOLYGON (((-1.24244 54.72219, -1.24162 54...  \n",
       "1    MULTIPOLYGON (((-1.19744 54.58184, -1.19416 54...  \n",
       "2    MULTIPOLYGON (((-1.20071 54.57768, -1.19989 54...  \n",
       "3    MULTIPOLYGON (((-1.28171 54.56460, -1.27762 54...  \n",
       "4    POLYGON ((-1.43800 54.59493, -1.43554 54.59552...  \n",
       "..                                                 ...  \n",
       "321  POLYGON ((-0.13456 51.39073, -0.13292 51.39013...  \n",
       "322  POLYGON ((-0.01673 51.54356, -0.01591 51.54237...  \n",
       "323  POLYGON ((0.02172 51.62861, 0.02091 51.62920, ...  \n",
       "324  POLYGON ((-0.14028 51.41927, -0.14438 51.41749...  \n",
       "325  POLYGON ((-0.11165 51.51561, -0.11083 51.51383...  \n",
       "\n",
       "[326 rows x 6 columns]"
      ]
     },
     "execution_count": 13,
     "metadata": {},
     "output_type": "execute_result"
    }
   ],
   "source": [
    "data = gpd.read_file(\"https://martinjc.github.io/UK-GeoJSON/json/eng/topo_lad.json\")\n",
    "data"
   ]
  },
  {
   "cell_type": "code",
   "execution_count": 17,
   "id": "779502e9",
   "metadata": {},
   "outputs": [
    {
     "data": {
      "text/plain": [
       "<AxesSubplot:>"
      ]
     },
     "execution_count": 17,
     "metadata": {},
     "output_type": "execute_result"
    },
    {
     "data": {
      "image/png": "[encoded data removed]",
      "text/plain": [
       "<Figure size 432x288 with 1 Axes>"
      ]
     },
     "metadata": {
      "needs_background": "light"
     },
     "output_type": "display_data"
    }
   ],
   "source": [
    "data.plot()"
   ]
  },
  {
   "cell_type": "code",
   "execution_count": 12,
   "id": "fcfeac78",
   "metadata": {},
   "outputs": [
    {
     "ename": "AttributeError",
     "evalue": "partially initialized module 'cartopy' has no attribute 'trace' (most likely due to a circular import)",
     "output_type": "error",
     "traceback": [
      "\u001b[1;31m---------------------------------------------------------------------------\u001b[0m",
      "\u001b[1;31mAttributeError\u001b[0m                            Traceback (most recent call last)",
      "\u001b[1;32m~\\AppData\\Local\\Temp/ipykernel_20624/1523724545.py\u001b[0m in \u001b[0;36m<module>\u001b[1;34m\u001b[0m\n\u001b[1;32m----> 1\u001b[1;33m \u001b[1;32mimport\u001b[0m \u001b[0mgeoplot\u001b[0m\u001b[1;33m\u001b[0m\u001b[1;33m\u001b[0m\u001b[0m\n\u001b[0m",
      "\u001b[1;32m~\\anaconda3_new\\lib\\site-packages\\geoplot\\__init__.py\u001b[0m in \u001b[0;36m<module>\u001b[1;34m\u001b[0m\n\u001b[1;32m----> 1\u001b[1;33m from .geoplot import (\n\u001b[0m\u001b[0;32m      2\u001b[0m     \u001b[0mpointplot\u001b[0m\u001b[1;33m,\u001b[0m \u001b[0mpolyplot\u001b[0m\u001b[1;33m,\u001b[0m \u001b[0mchoropleth\u001b[0m\u001b[1;33m,\u001b[0m \u001b[0mcartogram\u001b[0m\u001b[1;33m,\u001b[0m \u001b[0mkdeplot\u001b[0m\u001b[1;33m,\u001b[0m \u001b[0msankey\u001b[0m\u001b[1;33m,\u001b[0m \u001b[0mvoronoi\u001b[0m\u001b[1;33m,\u001b[0m \u001b[0mquadtree\u001b[0m\u001b[1;33m,\u001b[0m \u001b[0mwebmap\u001b[0m\u001b[1;33m,\u001b[0m\u001b[1;33m\u001b[0m\u001b[1;33m\u001b[0m\u001b[0m\n\u001b[0;32m      3\u001b[0m     \u001b[0m__version__\u001b[0m\u001b[1;33m\u001b[0m\u001b[1;33m\u001b[0m\u001b[0m\n\u001b[0;32m      4\u001b[0m )\n\u001b[0;32m      5\u001b[0m from .crs import (\n",
      "\u001b[1;32m~\\anaconda3_new\\lib\\site-packages\\geoplot\\geoplot.py\u001b[0m in \u001b[0;36m<module>\u001b[1;34m\u001b[0m\n\u001b[0;32m      7\u001b[0m \u001b[1;32mimport\u001b[0m \u001b[0mmatplotlib\u001b[0m \u001b[1;32mas\u001b[0m \u001b[0mmpl\u001b[0m\u001b[1;33m\u001b[0m\u001b[1;33m\u001b[0m\u001b[0m\n\u001b[0;32m      8\u001b[0m \u001b[1;32mimport\u001b[0m \u001b[0mnumpy\u001b[0m \u001b[1;32mas\u001b[0m \u001b[0mnp\u001b[0m\u001b[1;33m\u001b[0m\u001b[1;33m\u001b[0m\u001b[0m\n\u001b[1;32m----> 9\u001b[1;33m \u001b[1;32mfrom\u001b[0m \u001b[0mcartopy\u001b[0m\u001b[1;33m.\u001b[0m\u001b[0mfeature\u001b[0m \u001b[1;32mimport\u001b[0m \u001b[0mShapelyFeature\u001b[0m\u001b[1;33m\u001b[0m\u001b[1;33m\u001b[0m\u001b[0m\n\u001b[0m\u001b[0;32m     10\u001b[0m \u001b[1;32mimport\u001b[0m \u001b[0mcartopy\u001b[0m\u001b[1;33m.\u001b[0m\u001b[0mcrs\u001b[0m \u001b[1;32mas\u001b[0m \u001b[0mccrs\u001b[0m\u001b[1;33m\u001b[0m\u001b[1;33m\u001b[0m\u001b[0m\n\u001b[0;32m     11\u001b[0m \u001b[1;32mimport\u001b[0m \u001b[0mgeoplot\u001b[0m\u001b[1;33m.\u001b[0m\u001b[0mcrs\u001b[0m \u001b[1;32mas\u001b[0m \u001b[0mgcrs\u001b[0m\u001b[1;33m\u001b[0m\u001b[1;33m\u001b[0m\u001b[0m\n",
      "\u001b[1;32m~\\anaconda3_new\\lib\\site-packages\\cartopy\\__init__.py\u001b[0m in \u001b[0;36m<module>\u001b[1;34m\u001b[0m\n\u001b[0;32m    105\u001b[0m \u001b[1;31m# Commonly used sub-modules. Imported here to provide end-user\u001b[0m\u001b[1;33m\u001b[0m\u001b[1;33m\u001b[0m\u001b[0m\n\u001b[0;32m    106\u001b[0m \u001b[1;31m# convenience.\u001b[0m\u001b[1;33m\u001b[0m\u001b[1;33m\u001b[0m\u001b[0m\n\u001b[1;32m--> 107\u001b[1;33m \u001b[1;32mimport\u001b[0m \u001b[0mcartopy\u001b[0m\u001b[1;33m.\u001b[0m\u001b[0mcrs\u001b[0m\u001b[1;33m\u001b[0m\u001b[1;33m\u001b[0m\u001b[0m\n\u001b[0m\u001b[0;32m    108\u001b[0m \u001b[1;32mimport\u001b[0m \u001b[0mcartopy\u001b[0m\u001b[1;33m.\u001b[0m\u001b[0mfeature\u001b[0m  \u001b[1;31m# noqa: F401  (flake8 = unused import)\u001b[0m\u001b[1;33m\u001b[0m\u001b[1;33m\u001b[0m\u001b[0m\n",
      "\u001b[1;32m~\\anaconda3_new\\lib\\site-packages\\cartopy\\crs.py\u001b[0m in \u001b[0;36m<module>\u001b[1;34m\u001b[0m\n\u001b[0;32m     35\u001b[0m \u001b[0m__document_these__\u001b[0m \u001b[1;33m=\u001b[0m \u001b[1;33m[\u001b[0m\u001b[1;34m'CRS'\u001b[0m\u001b[1;33m,\u001b[0m \u001b[1;34m'Geocentric'\u001b[0m\u001b[1;33m,\u001b[0m \u001b[1;34m'Geodetic'\u001b[0m\u001b[1;33m,\u001b[0m \u001b[1;34m'Globe'\u001b[0m\u001b[1;33m]\u001b[0m\u001b[1;33m\u001b[0m\u001b[1;33m\u001b[0m\u001b[0m\n\u001b[0;32m     36\u001b[0m \u001b[1;33m\u001b[0m\u001b[0m\n\u001b[1;32m---> 37\u001b[1;33m \u001b[0mPROJ_VERSION\u001b[0m \u001b[1;33m=\u001b[0m \u001b[0mcartopy\u001b[0m\u001b[1;33m.\u001b[0m\u001b[0mtrace\u001b[0m\u001b[1;33m.\u001b[0m\u001b[0mPROJ_VERSION\u001b[0m\u001b[1;33m\u001b[0m\u001b[1;33m\u001b[0m\u001b[0m\n\u001b[0m\u001b[0;32m     38\u001b[0m \u001b[0mWGS84_SEMIMAJOR_AXIS\u001b[0m \u001b[1;33m=\u001b[0m \u001b[1;36m6378137.0\u001b[0m\u001b[1;33m\u001b[0m\u001b[1;33m\u001b[0m\u001b[0m\n\u001b[0;32m     39\u001b[0m \u001b[0mWGS84_SEMIMINOR_AXIS\u001b[0m \u001b[1;33m=\u001b[0m \u001b[1;36m6356752.3142\u001b[0m\u001b[1;33m\u001b[0m\u001b[1;33m\u001b[0m\u001b[0m\n",
      "\u001b[1;31mAttributeError\u001b[0m: partially initialized module 'cartopy' has no attribute 'trace' (most likely due to a circular import)"
     ]
    }
   ],
   "source": [
    "import geoplot\n",
    "import geoplot.crs as gcrs"
   ]
  },
  {
   "cell_type": "code",
   "execution_count": 11,
   "id": "f5efc058",
   "metadata": {},
   "outputs": [
    {
     "ename": "NameError",
     "evalue": "name 'geoplot' is not defined",
     "output_type": "error",
     "traceback": [
      "\u001b[1;31m---------------------------------------------------------------------------\u001b[0m",
      "\u001b[1;31mNameError\u001b[0m                                 Traceback (most recent call last)",
      "\u001b[1;32m~\\AppData\\Local\\Temp/ipykernel_20624/2610486001.py\u001b[0m in \u001b[0;36m<module>\u001b[1;34m\u001b[0m\n\u001b[1;32m----> 1\u001b[1;33m geoplot.polyplot(data, projection=gcrs.AlbersEqualArea(), edgecolor='darkgrey', facecolor='lightgrey', linewidth=.3,\n\u001b[0m\u001b[0;32m      2\u001b[0m     figsize=(12, 8))\n",
      "\u001b[1;31mNameError\u001b[0m: name 'geoplot' is not defined"
     ]
    }
   ],
   "source": [
    "geoplot.polyplot(data, projection=gcrs.AlbersEqualArea(), edgecolor='darkgrey', facecolor='lightgrey', linewidth=.3,\n",
    "    figsize=(12, 8))"
   ]
  }
 ],
 "metadata": {
  "kernelspec": {
   "display_name": "Python 3 (ipykernel)",
   "language": "python",
   "name": "python3"
  },
  "language_info": {
   "codemirror_mode": {
    "name": "ipython",
    "version": 3
   },
   "file_extension": ".py",
   "mimetype": "text/x-python",
   "name": "python",
   "nbconvert_exporter": "python",
   "pygments_lexer": "ipython3",
   "version": "3.9.7"
  }
 },
 "nbformat": 4,
 "nbformat_minor": 5
}
